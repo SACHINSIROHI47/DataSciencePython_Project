{
  "nbformat": 4,
  "nbformat_minor": 0,
  "metadata": {
    "colab": {
      "provenance": [],
      "authorship_tag": "ABX9TyOz2AUSt4ZiJpygAs6A2It/",
      "include_colab_link": true
    },
    "kernelspec": {
      "name": "python3",
      "display_name": "Python 3"
    },
    "language_info": {
      "name": "python"
    }
  },
  "cells": [
    {
      "cell_type": "markdown",
      "metadata": {
        "id": "view-in-github",
        "colab_type": "text"
      },
      "source": [
        "<a href=\"https://colab.research.google.com/github/SACHINSIROHI47/DataScience_with_Python_Programming_Project/blob/main/Customer_Churn_Prediction_Using_Ensemble_Techniques_in_One_Shot.ipynb\" target=\"_parent\"><img src=\"https://colab.research.google.com/assets/colab-badge.svg\" alt=\"Open In Colab\"/></a>"
      ]
    },
    {
      "cell_type": "markdown",
      "source": [
        "# **Customer Churn Prediction using Ensemble Techniques Project in One Shot**"
      ],
      "metadata": {
        "id": "ppjhgqwfD7sp"
      }
    },
    {
      "cell_type": "code",
      "source": [
        "import pandas as pd\n",
        "from sklearn.model_selection import train_test_split\n",
        "from sklearn.ensemble import RandomForestClassifier, BaggingClassifier, AdaBoostClassifier, GradientBoostingClassifier, VotingClassifier\n",
        "from sklearn.svm import SVC\n",
        "from sklearn.metrics import accuracy_score\n",
        "from sklearn.preprocessing import LabelEncoder\n"
      ],
      "metadata": {
        "id": "1GgknLvp-kx8"
      },
      "execution_count": 1,
      "outputs": []
    },
    {
      "cell_type": "code",
      "source": [
        "from google.colab import files\n",
        "uploaded = files.upload()"
      ],
      "metadata": {
        "colab": {
          "base_uri": "https://localhost:8080/",
          "height": 73
        },
        "id": "qpwk0NKd-8vV",
        "outputId": "a1a362de-d027-4782-bd88-eb974759d7fe"
      },
      "execution_count": 2,
      "outputs": [
        {
          "output_type": "display_data",
          "data": {
            "text/plain": [
              "<IPython.core.display.HTML object>"
            ],
            "text/html": [
              "\n",
              "     <input type=\"file\" id=\"files-66e912b7-40d4-4a78-b7a9-c56733442c81\" name=\"files[]\" multiple disabled\n",
              "        style=\"border:none\" />\n",
              "     <output id=\"result-66e912b7-40d4-4a78-b7a9-c56733442c81\">\n",
              "      Upload widget is only available when the cell has been executed in the\n",
              "      current browser session. Please rerun this cell to enable.\n",
              "      </output>\n",
              "      <script>// Copyright 2017 Google LLC\n",
              "//\n",
              "// Licensed under the Apache License, Version 2.0 (the \"License\");\n",
              "// you may not use this file except in compliance with the License.\n",
              "// You may obtain a copy of the License at\n",
              "//\n",
              "//      http://www.apache.org/licenses/LICENSE-2.0\n",
              "//\n",
              "// Unless required by applicable law or agreed to in writing, software\n",
              "// distributed under the License is distributed on an \"AS IS\" BASIS,\n",
              "// WITHOUT WARRANTIES OR CONDITIONS OF ANY KIND, either express or implied.\n",
              "// See the License for the specific language governing permissions and\n",
              "// limitations under the License.\n",
              "\n",
              "/**\n",
              " * @fileoverview Helpers for google.colab Python module.\n",
              " */\n",
              "(function(scope) {\n",
              "function span(text, styleAttributes = {}) {\n",
              "  const element = document.createElement('span');\n",
              "  element.textContent = text;\n",
              "  for (const key of Object.keys(styleAttributes)) {\n",
              "    element.style[key] = styleAttributes[key];\n",
              "  }\n",
              "  return element;\n",
              "}\n",
              "\n",
              "// Max number of bytes which will be uploaded at a time.\n",
              "const MAX_PAYLOAD_SIZE = 100 * 1024;\n",
              "\n",
              "function _uploadFiles(inputId, outputId) {\n",
              "  const steps = uploadFilesStep(inputId, outputId);\n",
              "  const outputElement = document.getElementById(outputId);\n",
              "  // Cache steps on the outputElement to make it available for the next call\n",
              "  // to uploadFilesContinue from Python.\n",
              "  outputElement.steps = steps;\n",
              "\n",
              "  return _uploadFilesContinue(outputId);\n",
              "}\n",
              "\n",
              "// This is roughly an async generator (not supported in the browser yet),\n",
              "// where there are multiple asynchronous steps and the Python side is going\n",
              "// to poll for completion of each step.\n",
              "// This uses a Promise to block the python side on completion of each step,\n",
              "// then passes the result of the previous step as the input to the next step.\n",
              "function _uploadFilesContinue(outputId) {\n",
              "  const outputElement = document.getElementById(outputId);\n",
              "  const steps = outputElement.steps;\n",
              "\n",
              "  const next = steps.next(outputElement.lastPromiseValue);\n",
              "  return Promise.resolve(next.value.promise).then((value) => {\n",
              "    // Cache the last promise value to make it available to the next\n",
              "    // step of the generator.\n",
              "    outputElement.lastPromiseValue = value;\n",
              "    return next.value.response;\n",
              "  });\n",
              "}\n",
              "\n",
              "/**\n",
              " * Generator function which is called between each async step of the upload\n",
              " * process.\n",
              " * @param {string} inputId Element ID of the input file picker element.\n",
              " * @param {string} outputId Element ID of the output display.\n",
              " * @return {!Iterable<!Object>} Iterable of next steps.\n",
              " */\n",
              "function* uploadFilesStep(inputId, outputId) {\n",
              "  const inputElement = document.getElementById(inputId);\n",
              "  inputElement.disabled = false;\n",
              "\n",
              "  const outputElement = document.getElementById(outputId);\n",
              "  outputElement.innerHTML = '';\n",
              "\n",
              "  const pickedPromise = new Promise((resolve) => {\n",
              "    inputElement.addEventListener('change', (e) => {\n",
              "      resolve(e.target.files);\n",
              "    });\n",
              "  });\n",
              "\n",
              "  const cancel = document.createElement('button');\n",
              "  inputElement.parentElement.appendChild(cancel);\n",
              "  cancel.textContent = 'Cancel upload';\n",
              "  const cancelPromise = new Promise((resolve) => {\n",
              "    cancel.onclick = () => {\n",
              "      resolve(null);\n",
              "    };\n",
              "  });\n",
              "\n",
              "  // Wait for the user to pick the files.\n",
              "  const files = yield {\n",
              "    promise: Promise.race([pickedPromise, cancelPromise]),\n",
              "    response: {\n",
              "      action: 'starting',\n",
              "    }\n",
              "  };\n",
              "\n",
              "  cancel.remove();\n",
              "\n",
              "  // Disable the input element since further picks are not allowed.\n",
              "  inputElement.disabled = true;\n",
              "\n",
              "  if (!files) {\n",
              "    return {\n",
              "      response: {\n",
              "        action: 'complete',\n",
              "      }\n",
              "    };\n",
              "  }\n",
              "\n",
              "  for (const file of files) {\n",
              "    const li = document.createElement('li');\n",
              "    li.append(span(file.name, {fontWeight: 'bold'}));\n",
              "    li.append(span(\n",
              "        `(${file.type || 'n/a'}) - ${file.size} bytes, ` +\n",
              "        `last modified: ${\n",
              "            file.lastModifiedDate ? file.lastModifiedDate.toLocaleDateString() :\n",
              "                                    'n/a'} - `));\n",
              "    const percent = span('0% done');\n",
              "    li.appendChild(percent);\n",
              "\n",
              "    outputElement.appendChild(li);\n",
              "\n",
              "    const fileDataPromise = new Promise((resolve) => {\n",
              "      const reader = new FileReader();\n",
              "      reader.onload = (e) => {\n",
              "        resolve(e.target.result);\n",
              "      };\n",
              "      reader.readAsArrayBuffer(file);\n",
              "    });\n",
              "    // Wait for the data to be ready.\n",
              "    let fileData = yield {\n",
              "      promise: fileDataPromise,\n",
              "      response: {\n",
              "        action: 'continue',\n",
              "      }\n",
              "    };\n",
              "\n",
              "    // Use a chunked sending to avoid message size limits. See b/62115660.\n",
              "    let position = 0;\n",
              "    do {\n",
              "      const length = Math.min(fileData.byteLength - position, MAX_PAYLOAD_SIZE);\n",
              "      const chunk = new Uint8Array(fileData, position, length);\n",
              "      position += length;\n",
              "\n",
              "      const base64 = btoa(String.fromCharCode.apply(null, chunk));\n",
              "      yield {\n",
              "        response: {\n",
              "          action: 'append',\n",
              "          file: file.name,\n",
              "          data: base64,\n",
              "        },\n",
              "      };\n",
              "\n",
              "      let percentDone = fileData.byteLength === 0 ?\n",
              "          100 :\n",
              "          Math.round((position / fileData.byteLength) * 100);\n",
              "      percent.textContent = `${percentDone}% done`;\n",
              "\n",
              "    } while (position < fileData.byteLength);\n",
              "  }\n",
              "\n",
              "  // All done.\n",
              "  yield {\n",
              "    response: {\n",
              "      action: 'complete',\n",
              "    }\n",
              "  };\n",
              "}\n",
              "\n",
              "scope.google = scope.google || {};\n",
              "scope.google.colab = scope.google.colab || {};\n",
              "scope.google.colab._files = {\n",
              "  _uploadFiles,\n",
              "  _uploadFilesContinue,\n",
              "};\n",
              "})(self);\n",
              "</script> "
            ]
          },
          "metadata": {}
        },
        {
          "output_type": "stream",
          "name": "stdout",
          "text": [
            "Saving Telco-Customer-Churns.csv to Telco-Customer-Churns.csv\n"
          ]
        }
      ]
    },
    {
      "cell_type": "code",
      "source": [
        "# Load the dataset\n",
        "data = pd.read_csv('Telco-Customer-Churns.csv')\n",
        "\n",
        "# Display the first few rows\n",
        "data.head()"
      ],
      "metadata": {
        "colab": {
          "base_uri": "https://localhost:8080/",
          "height": 342
        },
        "id": "CN9Pq3r1-lbc",
        "outputId": "f58c1366-fc9d-4ef8-e3ff-bf4e369fd183"
      },
      "execution_count": 3,
      "outputs": [
        {
          "output_type": "execute_result",
          "data": {
            "text/plain": [
              "   customerID  gender  SeniorCitizen Partner Dependents  tenure PhoneService  \\\n",
              "0  7590-VHVEG  Female              0     Yes         No       1           No   \n",
              "1  5575-GNVDE    Male              0      No         No      34          Yes   \n",
              "2  3668-QPYBK    Male              0      No         No       2          Yes   \n",
              "3  7795-CFOCW    Male              0      No         No      45           No   \n",
              "4  9237-HQITU  Female              0      No         No       2          Yes   \n",
              "\n",
              "      MultipleLines InternetService OnlineSecurity  ... DeviceProtection  \\\n",
              "0  No phone service             DSL             No  ...               No   \n",
              "1                No             DSL            Yes  ...              Yes   \n",
              "2                No             DSL            Yes  ...               No   \n",
              "3  No phone service             DSL            Yes  ...              Yes   \n",
              "4                No     Fiber optic             No  ...               No   \n",
              "\n",
              "  TechSupport StreamingTV StreamingMovies        Contract PaperlessBilling  \\\n",
              "0          No          No              No  Month-to-month              Yes   \n",
              "1          No          No              No        One year               No   \n",
              "2          No          No              No  Month-to-month              Yes   \n",
              "3         Yes          No              No        One year               No   \n",
              "4          No          No              No  Month-to-month              Yes   \n",
              "\n",
              "               PaymentMethod MonthlyCharges  TotalCharges Churn  \n",
              "0           Electronic check          29.85         29.85    No  \n",
              "1               Mailed check          56.95        1889.5    No  \n",
              "2               Mailed check          53.85        108.15   Yes  \n",
              "3  Bank transfer (automatic)          42.30       1840.75    No  \n",
              "4           Electronic check          70.70        151.65   Yes  \n",
              "\n",
              "[5 rows x 21 columns]"
            ],
            "text/html": [
              "\n",
              "  <div id=\"df-d675d1de-6e24-4f85-ba1e-99c10b12611f\" class=\"colab-df-container\">\n",
              "    <div>\n",
              "<style scoped>\n",
              "    .dataframe tbody tr th:only-of-type {\n",
              "        vertical-align: middle;\n",
              "    }\n",
              "\n",
              "    .dataframe tbody tr th {\n",
              "        vertical-align: top;\n",
              "    }\n",
              "\n",
              "    .dataframe thead th {\n",
              "        text-align: right;\n",
              "    }\n",
              "</style>\n",
              "<table border=\"1\" class=\"dataframe\">\n",
              "  <thead>\n",
              "    <tr style=\"text-align: right;\">\n",
              "      <th></th>\n",
              "      <th>customerID</th>\n",
              "      <th>gender</th>\n",
              "      <th>SeniorCitizen</th>\n",
              "      <th>Partner</th>\n",
              "      <th>Dependents</th>\n",
              "      <th>tenure</th>\n",
              "      <th>PhoneService</th>\n",
              "      <th>MultipleLines</th>\n",
              "      <th>InternetService</th>\n",
              "      <th>OnlineSecurity</th>\n",
              "      <th>...</th>\n",
              "      <th>DeviceProtection</th>\n",
              "      <th>TechSupport</th>\n",
              "      <th>StreamingTV</th>\n",
              "      <th>StreamingMovies</th>\n",
              "      <th>Contract</th>\n",
              "      <th>PaperlessBilling</th>\n",
              "      <th>PaymentMethod</th>\n",
              "      <th>MonthlyCharges</th>\n",
              "      <th>TotalCharges</th>\n",
              "      <th>Churn</th>\n",
              "    </tr>\n",
              "  </thead>\n",
              "  <tbody>\n",
              "    <tr>\n",
              "      <th>0</th>\n",
              "      <td>7590-VHVEG</td>\n",
              "      <td>Female</td>\n",
              "      <td>0</td>\n",
              "      <td>Yes</td>\n",
              "      <td>No</td>\n",
              "      <td>1</td>\n",
              "      <td>No</td>\n",
              "      <td>No phone service</td>\n",
              "      <td>DSL</td>\n",
              "      <td>No</td>\n",
              "      <td>...</td>\n",
              "      <td>No</td>\n",
              "      <td>No</td>\n",
              "      <td>No</td>\n",
              "      <td>No</td>\n",
              "      <td>Month-to-month</td>\n",
              "      <td>Yes</td>\n",
              "      <td>Electronic check</td>\n",
              "      <td>29.85</td>\n",
              "      <td>29.85</td>\n",
              "      <td>No</td>\n",
              "    </tr>\n",
              "    <tr>\n",
              "      <th>1</th>\n",
              "      <td>5575-GNVDE</td>\n",
              "      <td>Male</td>\n",
              "      <td>0</td>\n",
              "      <td>No</td>\n",
              "      <td>No</td>\n",
              "      <td>34</td>\n",
              "      <td>Yes</td>\n",
              "      <td>No</td>\n",
              "      <td>DSL</td>\n",
              "      <td>Yes</td>\n",
              "      <td>...</td>\n",
              "      <td>Yes</td>\n",
              "      <td>No</td>\n",
              "      <td>No</td>\n",
              "      <td>No</td>\n",
              "      <td>One year</td>\n",
              "      <td>No</td>\n",
              "      <td>Mailed check</td>\n",
              "      <td>56.95</td>\n",
              "      <td>1889.5</td>\n",
              "      <td>No</td>\n",
              "    </tr>\n",
              "    <tr>\n",
              "      <th>2</th>\n",
              "      <td>3668-QPYBK</td>\n",
              "      <td>Male</td>\n",
              "      <td>0</td>\n",
              "      <td>No</td>\n",
              "      <td>No</td>\n",
              "      <td>2</td>\n",
              "      <td>Yes</td>\n",
              "      <td>No</td>\n",
              "      <td>DSL</td>\n",
              "      <td>Yes</td>\n",
              "      <td>...</td>\n",
              "      <td>No</td>\n",
              "      <td>No</td>\n",
              "      <td>No</td>\n",
              "      <td>No</td>\n",
              "      <td>Month-to-month</td>\n",
              "      <td>Yes</td>\n",
              "      <td>Mailed check</td>\n",
              "      <td>53.85</td>\n",
              "      <td>108.15</td>\n",
              "      <td>Yes</td>\n",
              "    </tr>\n",
              "    <tr>\n",
              "      <th>3</th>\n",
              "      <td>7795-CFOCW</td>\n",
              "      <td>Male</td>\n",
              "      <td>0</td>\n",
              "      <td>No</td>\n",
              "      <td>No</td>\n",
              "      <td>45</td>\n",
              "      <td>No</td>\n",
              "      <td>No phone service</td>\n",
              "      <td>DSL</td>\n",
              "      <td>Yes</td>\n",
              "      <td>...</td>\n",
              "      <td>Yes</td>\n",
              "      <td>Yes</td>\n",
              "      <td>No</td>\n",
              "      <td>No</td>\n",
              "      <td>One year</td>\n",
              "      <td>No</td>\n",
              "      <td>Bank transfer (automatic)</td>\n",
              "      <td>42.30</td>\n",
              "      <td>1840.75</td>\n",
              "      <td>No</td>\n",
              "    </tr>\n",
              "    <tr>\n",
              "      <th>4</th>\n",
              "      <td>9237-HQITU</td>\n",
              "      <td>Female</td>\n",
              "      <td>0</td>\n",
              "      <td>No</td>\n",
              "      <td>No</td>\n",
              "      <td>2</td>\n",
              "      <td>Yes</td>\n",
              "      <td>No</td>\n",
              "      <td>Fiber optic</td>\n",
              "      <td>No</td>\n",
              "      <td>...</td>\n",
              "      <td>No</td>\n",
              "      <td>No</td>\n",
              "      <td>No</td>\n",
              "      <td>No</td>\n",
              "      <td>Month-to-month</td>\n",
              "      <td>Yes</td>\n",
              "      <td>Electronic check</td>\n",
              "      <td>70.70</td>\n",
              "      <td>151.65</td>\n",
              "      <td>Yes</td>\n",
              "    </tr>\n",
              "  </tbody>\n",
              "</table>\n",
              "<p>5 rows × 21 columns</p>\n",
              "</div>\n",
              "    <div class=\"colab-df-buttons\">\n",
              "\n",
              "  <div class=\"colab-df-container\">\n",
              "    <button class=\"colab-df-convert\" onclick=\"convertToInteractive('df-d675d1de-6e24-4f85-ba1e-99c10b12611f')\"\n",
              "            title=\"Convert this dataframe to an interactive table.\"\n",
              "            style=\"display:none;\">\n",
              "\n",
              "  <svg xmlns=\"http://www.w3.org/2000/svg\" height=\"24px\" viewBox=\"0 -960 960 960\">\n",
              "    <path d=\"M120-120v-720h720v720H120Zm60-500h600v-160H180v160Zm220 220h160v-160H400v160Zm0 220h160v-160H400v160ZM180-400h160v-160H180v160Zm440 0h160v-160H620v160ZM180-180h160v-160H180v160Zm440 0h160v-160H620v160Z\"/>\n",
              "  </svg>\n",
              "    </button>\n",
              "\n",
              "  <style>\n",
              "    .colab-df-container {\n",
              "      display:flex;\n",
              "      gap: 12px;\n",
              "    }\n",
              "\n",
              "    .colab-df-convert {\n",
              "      background-color: #E8F0FE;\n",
              "      border: none;\n",
              "      border-radius: 50%;\n",
              "      cursor: pointer;\n",
              "      display: none;\n",
              "      fill: #1967D2;\n",
              "      height: 32px;\n",
              "      padding: 0 0 0 0;\n",
              "      width: 32px;\n",
              "    }\n",
              "\n",
              "    .colab-df-convert:hover {\n",
              "      background-color: #E2EBFA;\n",
              "      box-shadow: 0px 1px 2px rgba(60, 64, 67, 0.3), 0px 1px 3px 1px rgba(60, 64, 67, 0.15);\n",
              "      fill: #174EA6;\n",
              "    }\n",
              "\n",
              "    .colab-df-buttons div {\n",
              "      margin-bottom: 4px;\n",
              "    }\n",
              "\n",
              "    [theme=dark] .colab-df-convert {\n",
              "      background-color: #3B4455;\n",
              "      fill: #D2E3FC;\n",
              "    }\n",
              "\n",
              "    [theme=dark] .colab-df-convert:hover {\n",
              "      background-color: #434B5C;\n",
              "      box-shadow: 0px 1px 3px 1px rgba(0, 0, 0, 0.15);\n",
              "      filter: drop-shadow(0px 1px 2px rgba(0, 0, 0, 0.3));\n",
              "      fill: #FFFFFF;\n",
              "    }\n",
              "  </style>\n",
              "\n",
              "    <script>\n",
              "      const buttonEl =\n",
              "        document.querySelector('#df-d675d1de-6e24-4f85-ba1e-99c10b12611f button.colab-df-convert');\n",
              "      buttonEl.style.display =\n",
              "        google.colab.kernel.accessAllowed ? 'block' : 'none';\n",
              "\n",
              "      async function convertToInteractive(key) {\n",
              "        const element = document.querySelector('#df-d675d1de-6e24-4f85-ba1e-99c10b12611f');\n",
              "        const dataTable =\n",
              "          await google.colab.kernel.invokeFunction('convertToInteractive',\n",
              "                                                    [key], {});\n",
              "        if (!dataTable) return;\n",
              "\n",
              "        const docLinkHtml = 'Like what you see? Visit the ' +\n",
              "          '<a target=\"_blank\" href=https://colab.research.google.com/notebooks/data_table.ipynb>data table notebook</a>'\n",
              "          + ' to learn more about interactive tables.';\n",
              "        element.innerHTML = '';\n",
              "        dataTable['output_type'] = 'display_data';\n",
              "        await google.colab.output.renderOutput(dataTable, element);\n",
              "        const docLink = document.createElement('div');\n",
              "        docLink.innerHTML = docLinkHtml;\n",
              "        element.appendChild(docLink);\n",
              "      }\n",
              "    </script>\n",
              "  </div>\n",
              "\n",
              "\n",
              "<div id=\"df-25885599-3cdc-4241-921b-e911b906a845\">\n",
              "  <button class=\"colab-df-quickchart\" onclick=\"quickchart('df-25885599-3cdc-4241-921b-e911b906a845')\"\n",
              "            title=\"Suggest charts\"\n",
              "            style=\"display:none;\">\n",
              "\n",
              "<svg xmlns=\"http://www.w3.org/2000/svg\" height=\"24px\"viewBox=\"0 0 24 24\"\n",
              "     width=\"24px\">\n",
              "    <g>\n",
              "        <path d=\"M19 3H5c-1.1 0-2 .9-2 2v14c0 1.1.9 2 2 2h14c1.1 0 2-.9 2-2V5c0-1.1-.9-2-2-2zM9 17H7v-7h2v7zm4 0h-2V7h2v10zm4 0h-2v-4h2v4z\"/>\n",
              "    </g>\n",
              "</svg>\n",
              "  </button>\n",
              "\n",
              "<style>\n",
              "  .colab-df-quickchart {\n",
              "      --bg-color: #E8F0FE;\n",
              "      --fill-color: #1967D2;\n",
              "      --hover-bg-color: #E2EBFA;\n",
              "      --hover-fill-color: #174EA6;\n",
              "      --disabled-fill-color: #AAA;\n",
              "      --disabled-bg-color: #DDD;\n",
              "  }\n",
              "\n",
              "  [theme=dark] .colab-df-quickchart {\n",
              "      --bg-color: #3B4455;\n",
              "      --fill-color: #D2E3FC;\n",
              "      --hover-bg-color: #434B5C;\n",
              "      --hover-fill-color: #FFFFFF;\n",
              "      --disabled-bg-color: #3B4455;\n",
              "      --disabled-fill-color: #666;\n",
              "  }\n",
              "\n",
              "  .colab-df-quickchart {\n",
              "    background-color: var(--bg-color);\n",
              "    border: none;\n",
              "    border-radius: 50%;\n",
              "    cursor: pointer;\n",
              "    display: none;\n",
              "    fill: var(--fill-color);\n",
              "    height: 32px;\n",
              "    padding: 0;\n",
              "    width: 32px;\n",
              "  }\n",
              "\n",
              "  .colab-df-quickchart:hover {\n",
              "    background-color: var(--hover-bg-color);\n",
              "    box-shadow: 0 1px 2px rgba(60, 64, 67, 0.3), 0 1px 3px 1px rgba(60, 64, 67, 0.15);\n",
              "    fill: var(--button-hover-fill-color);\n",
              "  }\n",
              "\n",
              "  .colab-df-quickchart-complete:disabled,\n",
              "  .colab-df-quickchart-complete:disabled:hover {\n",
              "    background-color: var(--disabled-bg-color);\n",
              "    fill: var(--disabled-fill-color);\n",
              "    box-shadow: none;\n",
              "  }\n",
              "\n",
              "  .colab-df-spinner {\n",
              "    border: 2px solid var(--fill-color);\n",
              "    border-color: transparent;\n",
              "    border-bottom-color: var(--fill-color);\n",
              "    animation:\n",
              "      spin 1s steps(1) infinite;\n",
              "  }\n",
              "\n",
              "  @keyframes spin {\n",
              "    0% {\n",
              "      border-color: transparent;\n",
              "      border-bottom-color: var(--fill-color);\n",
              "      border-left-color: var(--fill-color);\n",
              "    }\n",
              "    20% {\n",
              "      border-color: transparent;\n",
              "      border-left-color: var(--fill-color);\n",
              "      border-top-color: var(--fill-color);\n",
              "    }\n",
              "    30% {\n",
              "      border-color: transparent;\n",
              "      border-left-color: var(--fill-color);\n",
              "      border-top-color: var(--fill-color);\n",
              "      border-right-color: var(--fill-color);\n",
              "    }\n",
              "    40% {\n",
              "      border-color: transparent;\n",
              "      border-right-color: var(--fill-color);\n",
              "      border-top-color: var(--fill-color);\n",
              "    }\n",
              "    60% {\n",
              "      border-color: transparent;\n",
              "      border-right-color: var(--fill-color);\n",
              "    }\n",
              "    80% {\n",
              "      border-color: transparent;\n",
              "      border-right-color: var(--fill-color);\n",
              "      border-bottom-color: var(--fill-color);\n",
              "    }\n",
              "    90% {\n",
              "      border-color: transparent;\n",
              "      border-bottom-color: var(--fill-color);\n",
              "    }\n",
              "  }\n",
              "</style>\n",
              "\n",
              "  <script>\n",
              "    async function quickchart(key) {\n",
              "      const quickchartButtonEl =\n",
              "        document.querySelector('#' + key + ' button');\n",
              "      quickchartButtonEl.disabled = true;  // To prevent multiple clicks.\n",
              "      quickchartButtonEl.classList.add('colab-df-spinner');\n",
              "      try {\n",
              "        const charts = await google.colab.kernel.invokeFunction(\n",
              "            'suggestCharts', [key], {});\n",
              "      } catch (error) {\n",
              "        console.error('Error during call to suggestCharts:', error);\n",
              "      }\n",
              "      quickchartButtonEl.classList.remove('colab-df-spinner');\n",
              "      quickchartButtonEl.classList.add('colab-df-quickchart-complete');\n",
              "    }\n",
              "    (() => {\n",
              "      let quickchartButtonEl =\n",
              "        document.querySelector('#df-25885599-3cdc-4241-921b-e911b906a845 button');\n",
              "      quickchartButtonEl.style.display =\n",
              "        google.colab.kernel.accessAllowed ? 'block' : 'none';\n",
              "    })();\n",
              "  </script>\n",
              "</div>\n",
              "\n",
              "    </div>\n",
              "  </div>\n"
            ],
            "application/vnd.google.colaboratory.intrinsic+json": {
              "type": "dataframe",
              "variable_name": "data"
            }
          },
          "metadata": {},
          "execution_count": 3
        }
      ]
    },
    {
      "cell_type": "markdown",
      "source": [
        "**Step 2: Data Preprocessing**\n",
        "\n",
        "Since churn datasets often have categorical columns, encode these as numbers."
      ],
      "metadata": {
        "id": "khfgOQFW_V4L"
      }
    },
    {
      "cell_type": "code",
      "source": [
        "# Convert categorical columns to numerical values\n",
        "le = LabelEncoder()\n",
        "for column in data.select_dtypes(include=['object']).columns:\n",
        "    data[column] = le.fit_transform(data[column])\n",
        "\n",
        "# Define features (X) and target variable (y)\n",
        "X = data.drop('Churn', axis=1)  # Adjust if 'Churn' is named differently\n",
        "y = data['Churn']\n",
        "\n",
        "# Split data\n",
        "X_train, X_test, y_train, y_test = train_test_split(X, y, test_size=0.2, random_state=42)\n"
      ],
      "metadata": {
        "id": "9XspUcYo_Zoc"
      },
      "execution_count": 4,
      "outputs": []
    },
    {
      "cell_type": "markdown",
      "source": [
        "**Step 3: Ensemble Models**\n",
        "\n",
        "1. **Random Forest-**  is a machine learning algorithm that combines the outputs of multiple decision trees to reach a single result. It's a popular algorithm that can be used for classification and regression problems.\n",
        "\n",
        "\n",
        "Random Forest is an ensemble learning technique that builds multiple decision trees and combines their outputs to produce a more robust and accurate model. It is a type of bagging method, where each tree is trained on a random sample of the data (with replacement) and considers a random subset of features at each split, ensuring that the trees are less correlated. The final prediction is made by averaging (for regression) or majority voting (for classification) across all trees.\n",
        "\n",
        "**Use:**\n",
        "\n",
        "**Classification:** It’s widely used in tasks like image classification, spam detection, and customer churn prediction.\n",
        "Regression: Often applied in fields like stock price prediction, real estate pricing, and environmental modeling.\n",
        "\n",
        "**Advantages:**\n",
        "\n",
        "**Robustness:** By averaging multiple trees, Random Forest reduces overfitting and enhances model stability, even with high-variance or noisy data.\n",
        "Feature Importance: It provides estimates of feature importance, helping in understanding which features contribute the most to predictions.\n",
        "Handling High Dimensionality: Effective in dealing with large datasets and many features due to its feature selection at each split."
      ],
      "metadata": {
        "id": "F_ctafTLAMCd"
      }
    },
    {
      "cell_type": "code",
      "source": [
        "rf = RandomForestClassifier(n_estimators=100, random_state=42)\n",
        "rf.fit(X_train, y_train)\n",
        "y_pred_rf = rf.predict(X_test)\n",
        "print(\"Random Forest Accuracy:\", accuracy_score(y_test, y_pred_rf))\n"
      ],
      "metadata": {
        "colab": {
          "base_uri": "https://localhost:8080/"
        },
        "id": "LX_BoABeAN2s",
        "outputId": "f202bfbb-83db-4f07-fb3a-7265c5f0ab82"
      },
      "execution_count": null,
      "outputs": [
        {
          "output_type": "stream",
          "name": "stdout",
          "text": [
            "Random Forest Accuracy: 0.7970191625266146\n"
          ]
        }
      ]
    },
    {
      "cell_type": "markdown",
      "source": [
        "**2. Bagging Classifier**\n",
        "\n",
        "Bagging, also known as bootstrap aggregation, is the ensemble learning method that is commonly used to reduce variance within a noisy data set. In bagging, a random sample of data in a training set is selected with replacement—meaning that the individual data points can be chosen more than once.\n",
        "\n",
        "A Bagging (Bootstrap Aggregating) Classifier is an ensemble technique that trains multiple instances of the same model on different subsets of the data and combines their predictions for more stable and accurate results. In bagging, each model (often decision trees) is trained on a random sample with replacement (bootstrapping) from the original dataset, so each model sees a slightly different version of the data.\n",
        "\n",
        "**The final prediction in bagging can be done by:**\n",
        "\n",
        "**Voting** (for classification tasks) or\n",
        "\n",
        "**Averaging** (for regression tasks)\n",
        "Popular Example: Random Forest is a well-known bagging method that combines multiple decision trees.\n",
        "\n",
        "**Use:**\n",
        "\n",
        "Primarily used in tasks where variance reduction is needed, such as classification and regression tasks involving high-variance models like decision trees.\n",
        "Applied to improve the robustness and accuracy of models in applications such as financial forecasting, disease prediction, and customer segmentation.\n",
        "\n",
        "**Advantages:**\n",
        "\n",
        "Reduces overfitting, especially for high-variance models, by averaging multiple predictions.\n",
        "Increases model stability, making it less sensitive to outliers and small changes in the training data."
      ],
      "metadata": {
        "id": "ykMR9X1QAQoK"
      }
    },
    {
      "cell_type": "code",
      "source": [
        "# Bagging Classifier with updated 'estimator' parameter\n",
        "bagging = BaggingClassifier(estimator=SVC(), n_estimators=10, random_state=42)\n",
        "bagging.fit(X_train, y_train)\n",
        "y_pred_bagging = bagging.predict(X_test)\n",
        "print(\"Bagging Classifier Accuracy:\", accuracy_score(y_test, y_pred_bagging))\n",
        "\n"
      ],
      "metadata": {
        "colab": {
          "base_uri": "https://localhost:8080/"
        },
        "id": "a4_Ogd0nAUuL",
        "outputId": "8d992e59-a49e-4e16-9e79-a17b16f82c41"
      },
      "execution_count": null,
      "outputs": [
        {
          "output_type": "stream",
          "name": "stdout",
          "text": [
            "Bagging Classifier Accuracy: 0.7352732434350603\n"
          ]
        }
      ]
    },
    {
      "cell_type": "markdown",
      "source": [
        "**3. AdaBoost**\n",
        "\n",
        "**AdaBoost,** short for Adaptive Boosting, is an ensemble learning technique that combines multiple weak classifiers (often decision trees with a single split, or \"stumps\") to create a strong classifier. The algorithm gives more weight to instances that were misclassified in previous rounds, focusing subsequent classifiers on the harder-to-predict cases.\n",
        "\n",
        "**Use:**\n",
        "\n",
        "Commonly used in binary classification but can be extended to multi-class classification.\n",
        "Applied in various fields such as image recognition, fraud detection, and customer churn prediction due to its simplicity and effectiveness on moderately sized datasets.\n",
        "Key Features:\n",
        "\n",
        "Boosting focuses on adjusting the weights of misclassified samples.\n",
        "Models added sequentially, with each new model correcting the errors of the previous ones"
      ],
      "metadata": {
        "id": "Jq5JW2rcA_wm"
      }
    },
    {
      "cell_type": "code",
      "source": [
        "ada = AdaBoostClassifier(n_estimators=50, random_state=42)\n",
        "ada.fit(X_train, y_train)\n",
        "y_pred_ada = ada.predict(X_test)\n",
        "print(\"AdaBoost Accuracy:\", accuracy_score(y_test, y_pred_ada))\n"
      ],
      "metadata": {
        "colab": {
          "base_uri": "https://localhost:8080/"
        },
        "id": "M_iDUtQyBFB6",
        "outputId": "a50099b9-f7b6-4427-ad50-6f6f61163f31"
      },
      "execution_count": null,
      "outputs": [
        {
          "output_type": "stream",
          "name": "stdout",
          "text": [
            "AdaBoost Accuracy: 0.8062455642299503\n"
          ]
        }
      ]
    },
    {
      "cell_type": "markdown",
      "source": [
        "**4. Gradient Boosting**\n",
        "\n",
        "Gradient Boosting is another boosting technique that sequentially adds predictors to an ensemble, each trying to reduce the errors of the combined model. Instead of focusing directly on misclassified instances, Gradient Boosting minimizes a differentiable loss function (like mean squared error in regression) using gradient descent.\n",
        "\n",
        "**Use:**\n",
        "\n",
        "Widely used for structured/tabular data and regression tasks, such as predicting sales, and classification, like customer segmentation or credit scoring.\n",
        "Common in competitions due to its accuracy, adaptability, and efficiency in handling large datasets.\n",
        "\n",
        "**Key Features:**\n",
        "\n",
        "\n",
        "Each new model aims to correct the residual errors of the previous models.\n",
        "It leverages gradient descent to minimize the loss, which makes it highly customizable and adaptable.\n",
        "\n"
      ],
      "metadata": {
        "id": "F5C1Ku76AYwW"
      }
    },
    {
      "cell_type": "code",
      "source": [
        "gb = GradientBoostingClassifier(n_estimators=100, random_state=42)\n",
        "gb.fit(X_train, y_train)\n",
        "y_pred_gb = gb.predict(X_test)\n",
        "print(\"Gradient Boosting Accuracy:\", accuracy_score(y_test, y_pred_gb))\n"
      ],
      "metadata": {
        "colab": {
          "base_uri": "https://localhost:8080/"
        },
        "id": "ZHVn-WQmBLlj",
        "outputId": "d5e8818f-f272-4a23-9b9a-3e330b3276e1"
      },
      "execution_count": null,
      "outputs": [
        {
          "output_type": "stream",
          "name": "stdout",
          "text": [
            "Gradient Boosting Accuracy: 0.808374733853797\n"
          ]
        }
      ]
    },
    {
      "cell_type": "markdown",
      "source": [
        "![AddaBoost-GradiantBoost.JPG](data:image/jpeg;base64,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)"
      ],
      "metadata": {
        "id": "lZmf8xkVWNoL"
      }
    },
    {
      "cell_type": "markdown",
      "source": [
        "**5. Voting Classifier**\n",
        "\n",
        "Combine all classifiers in a voting ensemble.\n",
        "\n",
        "A Voting Classifier is an ensemble machine learning technique that combines predictions from multiple models to improve overall accuracy and stability. It leverages the \"wisdom of the crowd\" concept, where different models vote on the final prediction, either by majority (hard voting) or by averaging probabilities (soft voting).\n",
        "\n",
        "**Types of Voting:**\n",
        "\n",
        "Hard Voting: The final prediction is the most common (mode) prediction among the classifiers. It’s beneficial when you need more definitive answers and is often used for classification tasks.\n",
        "Soft Voting: Uses the average of predicted probabilities, which gives more weight to the models with higher confidence in their predictions. Soft voting can provide better results if the models are well-calibrated.\n",
        "\n",
        "**Use:**\n",
        "\n",
        "Commonly used in classification problems where multiple models may have different strengths, such as in image classification, sentiment analysis, or customer segmentation.\n",
        "\n",
        "Helpful when you have different models (e.g., decision trees, logistic regression, SVM) that each capture unique patterns in the data but may not individually perform well.\n",
        "\n",
        "**Advantages:**\n",
        "Can enhance overall accuracy by combining models with complementary strengths.\n",
        "Provides robustness and reduces overfitting risks compared to using a single model."
      ],
      "metadata": {
        "id": "dEh3buEhBOMa"
      }
    },
    {
      "cell_type": "code",
      "source": [
        "voting = VotingClassifier(estimators=[\n",
        "    ('rf', rf), ('bagging', bagging), ('ada', ada), ('gb', gb)], voting='hard')\n",
        "voting.fit(X_train, y_train)\n",
        "y_pred_voting = voting.predict(X_test)\n",
        "print(\"Voting Classifier Accuracy:\", accuracy_score(y_test, y_pred_voting))\n"
      ],
      "metadata": {
        "colab": {
          "base_uri": "https://localhost:8080/"
        },
        "id": "Z55Q5I_nBSNM",
        "outputId": "566de538-bc46-4024-8855-084b434bbaa1"
      },
      "execution_count": null,
      "outputs": [
        {
          "output_type": "stream",
          "name": "stdout",
          "text": [
            "Voting Classifier Accuracy: 0.7927608232789212\n"
          ]
        }
      ]
    },
    {
      "cell_type": "markdown",
      "source": [
        "**Visualization**\n",
        "\n",
        "**Step 1: Churn Distribution Plot**\n",
        "\n",
        "Churn- Manthan"
      ],
      "metadata": {
        "id": "7bh0_sqWBUQj"
      }
    },
    {
      "cell_type": "code",
      "source": [
        "import matplotlib.pyplot as plt\n",
        "import seaborn as sns\n",
        "\n",
        "# Plot the churn distribution\n",
        "sns.countplot(x='Churn', data=data)\n",
        "plt.title('Churn Distribution')\n",
        "plt.show()\n"
      ],
      "metadata": {
        "colab": {
          "base_uri": "https://localhost:8080/",
          "height": 472
        },
        "id": "Emahs03NBcok",
        "outputId": "a4c921fe-979a-4299-a592-802aef48231f"
      },
      "execution_count": null,
      "outputs": [
        {
          "output_type": "display_data",
          "data": {
            "text/plain": [
              "<Figure size 640x480 with 1 Axes>"
            ],
            "image/png": "[encoded data removed]"
          },
          "metadata": {}
        }
      ]
    },
    {
      "cell_type": "markdown",
      "source": [
        "**Step 2: Pair Plot**\n",
        "\n",
        "A pair plot provides a grid of scatter plots for each pair of numerical features, colored by the churn outcome."
      ],
      "metadata": {
        "id": "B51w1b39CRks"
      }
    },
    {
      "cell_type": "code",
      "source": [
        "# Pair plot to visualize relationships between features and Churn\n",
        "sns.pairplot(data, hue='Churn', plot_kws={'alpha': 0.5})\n",
        "plt.suptitle(\"Pair Plot of Features by Churn\", y=1.02)\n",
        "plt.show()\n"
      ],
      "metadata": {
        "id": "2fZIk_AGDGMT"
      },
      "execution_count": null,
      "outputs": []
    },
    {
      "cell_type": "markdown",
      "source": [
        "**Step 3: Correlation Heatmap**\n",
        "\n",
        "The heatmap helps identify correlations between features and with the target variable."
      ],
      "metadata": {
        "id": "sPPuVFfwCYea"
      }
    },
    {
      "cell_type": "code",
      "source": [
        "# Correlation heatmap\n",
        "plt.figure(figsize=(12, 8))\n",
        "correlation_matrix = data.corr()\n",
        "sns.heatmap(correlation_matrix, annot=True, fmt=\".2f\", cmap='coolwarm')\n",
        "plt.title('Correlation Heatmap')\n",
        "plt.show()"
      ],
      "metadata": {
        "id": "lEsZNuNyDN-k"
      },
      "execution_count": null,
      "outputs": []
    },
    {
      "cell_type": "markdown",
      "source": [
        "**Step 4: Box Plot of Features by Churn**\n",
        "\n",
        "Box plots show the distribution of features with respect to churn, which is useful to detect if a particular feature has different distributions for churned vs. non-churned customers."
      ],
      "metadata": {
        "id": "FO01jpGWCgBQ"
      }
    },
    {
      "cell_type": "code",
      "source": [
        "# Select numerical features only\n",
        "numerical_features = data.select_dtypes(include=['float64', 'int64']).columns\n",
        "\n",
        "# Box plot of numerical features by Churn\n",
        "plt.figure(figsize=(15, 10))\n",
        "for i, feature in enumerate(numerical_features, 1):\n",
        "    plt.subplot(3, 3, i)\n",
        "    sns.boxplot(x='Churn', y=feature, data=data)\n",
        "    plt.title(f'Box Plot of {feature} by Churn')\n",
        "    plt.tight_layout()\n",
        "plt.show()\n"
      ],
      "metadata": {
        "id": "h7gmM9FMCj6L"
      },
      "execution_count": null,
      "outputs": []
    }
  ]
}